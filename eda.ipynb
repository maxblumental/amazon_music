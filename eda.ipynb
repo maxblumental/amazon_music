{
 "cells": [
  {
   "cell_type": "markdown",
   "id": "844ac8f7",
   "metadata": {},
   "source": [
    "# EDA"
   ]
  },
  {
   "cell_type": "code",
   "execution_count": 1,
   "id": "5d1d3cfd",
   "metadata": {},
   "outputs": [],
   "source": [
    "import matplotlib.pyplot as plt\n",
    "import seaborn\n",
    "%matplotlib inline"
   ]
  },
  {
   "cell_type": "markdown",
   "id": "d2a2fdb7",
   "metadata": {},
   "source": [
    "Take a small dataset with reviews on digital music from [here](https://nijianmo.github.io/amazon/index.html)."
   ]
  },
  {
   "cell_type": "code",
   "execution_count": 2,
   "id": "11ddde94",
   "metadata": {},
   "outputs": [
    {
     "data": {
      "application/vnd.jupyter.widget-view+json": {
       "model_id": "b56d824876aa43278656f6376e5f71d0",
       "version_major": 2,
       "version_minor": 0
      },
      "text/plain": [
       "  0%|          | 0/1584082 [00:00<?, ?it/s]"
      ]
     },
     "metadata": {},
     "output_type": "display_data"
    }
   ],
   "source": [
    "import json\n",
    "from tqdm.notebook import tqdm\n",
    "import pandas as pd\n",
    "\n",
    "DATA_JSON = \"Digital_Music.json\"\n",
    "\n",
    "with open(DATA_JSON, 'r') as infile:\n",
    "    entries = [json.loads(entry) for entry in tqdm(infile.read().strip().split('\\n'))]\n",
    "\n",
    "raw = pd.DataFrame(entries)"
   ]
  },
  {
   "cell_type": "code",
   "execution_count": 3,
   "id": "94b66ed3",
   "metadata": {},
   "outputs": [
    {
     "data": {
      "text/html": [
       "<div>\n",
       "<style scoped>\n",
       "    .dataframe tbody tr th:only-of-type {\n",
       "        vertical-align: middle;\n",
       "    }\n",
       "\n",
       "    .dataframe tbody tr th {\n",
       "        vertical-align: top;\n",
       "    }\n",
       "\n",
       "    .dataframe thead th {\n",
       "        text-align: right;\n",
       "    }\n",
       "</style>\n",
       "<table border=\"1\" class=\"dataframe\">\n",
       "  <thead>\n",
       "    <tr style=\"text-align: right;\">\n",
       "      <th></th>\n",
       "      <th>overall</th>\n",
       "      <th>verified</th>\n",
       "      <th>reviewTime</th>\n",
       "      <th>reviewerID</th>\n",
       "      <th>asin</th>\n",
       "      <th>style</th>\n",
       "      <th>reviewerName</th>\n",
       "      <th>reviewText</th>\n",
       "      <th>summary</th>\n",
       "      <th>unixReviewTime</th>\n",
       "      <th>vote</th>\n",
       "      <th>image</th>\n",
       "    </tr>\n",
       "  </thead>\n",
       "  <tbody>\n",
       "    <tr>\n",
       "      <th>1115605</th>\n",
       "      <td>5.0</td>\n",
       "      <td>True</td>\n",
       "      <td>07 3, 2016</td>\n",
       "      <td>A1VGXEUCLM91LJ</td>\n",
       "      <td>B007EUPYUK</td>\n",
       "      <td>{'Format:': ' MP3 Music'}</td>\n",
       "      <td>D. A KENNEDY</td>\n",
       "      <td>Voice of an angel. Soothes my soul. I've been ...</td>\n",
       "      <td>ever been disappointed.</td>\n",
       "      <td>1467504000</td>\n",
       "      <td>NaN</td>\n",
       "      <td>NaN</td>\n",
       "    </tr>\n",
       "  </tbody>\n",
       "</table>\n",
       "</div>"
      ],
      "text/plain": [
       "         overall  verified  reviewTime      reviewerID        asin  \\\n",
       "1115605      5.0      True  07 3, 2016  A1VGXEUCLM91LJ  B007EUPYUK   \n",
       "\n",
       "                             style  reviewerName  \\\n",
       "1115605  {'Format:': ' MP3 Music'}  D. A KENNEDY   \n",
       "\n",
       "                                                reviewText  \\\n",
       "1115605  Voice of an angel. Soothes my soul. I've been ...   \n",
       "\n",
       "                         summary  unixReviewTime vote image  \n",
       "1115605  ever been disappointed.      1467504000  NaN   NaN  "
      ]
     },
     "execution_count": 3,
     "metadata": {},
     "output_type": "execute_result"
    }
   ],
   "source": [
    "raw.sample()"
   ]
  },
  {
   "cell_type": "markdown",
   "id": "3b5c9c1c",
   "metadata": {},
   "source": [
    "Keep only necessary columns:\n",
    "* `reviewerID` - user id;\n",
    "* `asin` - Amazon Standard IDentifier, item id;\n",
    "* `overall` - the item's rating given by the user;\n",
    "* `unixReviewTime` - this is required to make a correct train-test split.\n",
    "\n",
    "Also, keep only the last review from the given user to the given item."
   ]
  },
  {
   "cell_type": "code",
   "execution_count": 4,
   "id": "736012bf",
   "metadata": {},
   "outputs": [],
   "source": [
    "df = raw.sort_values('unixReviewTime').drop_duplicates(['reviewerID', 'asin'], keep='last')\n",
    "df = df[['reviewerID', 'asin', 'overall', 'unixReviewTime']]"
   ]
  },
  {
   "cell_type": "code",
   "execution_count": 5,
   "id": "e5d6ce63",
   "metadata": {},
   "outputs": [
    {
     "data": {
      "text/html": [
       "<div>\n",
       "<style scoped>\n",
       "    .dataframe tbody tr th:only-of-type {\n",
       "        vertical-align: middle;\n",
       "    }\n",
       "\n",
       "    .dataframe tbody tr th {\n",
       "        vertical-align: top;\n",
       "    }\n",
       "\n",
       "    .dataframe thead th {\n",
       "        text-align: right;\n",
       "    }\n",
       "</style>\n",
       "<table border=\"1\" class=\"dataframe\">\n",
       "  <thead>\n",
       "    <tr style=\"text-align: right;\">\n",
       "      <th></th>\n",
       "      <th>reviewerID</th>\n",
       "      <th>asin</th>\n",
       "      <th>overall</th>\n",
       "      <th>unixReviewTime</th>\n",
       "    </tr>\n",
       "  </thead>\n",
       "  <tbody>\n",
       "    <tr>\n",
       "      <th>853495</th>\n",
       "      <td>ANNVJTD5TE002</td>\n",
       "      <td>B001EKP5M8</td>\n",
       "      <td>5.0</td>\n",
       "      <td>1328745600</td>\n",
       "    </tr>\n",
       "    <tr>\n",
       "      <th>1438823</th>\n",
       "      <td>APQKVBOYQ2QES</td>\n",
       "      <td>B00SDOO03S</td>\n",
       "      <td>3.0</td>\n",
       "      <td>1433030400</td>\n",
       "    </tr>\n",
       "    <tr>\n",
       "      <th>233230</th>\n",
       "      <td>A2ASS2Y9SSLE1M</td>\n",
       "      <td>B004EI3ON4</td>\n",
       "      <td>5.0</td>\n",
       "      <td>1474761600</td>\n",
       "    </tr>\n",
       "    <tr>\n",
       "      <th>1014620</th>\n",
       "      <td>A3IUD0BF0WYOZ3</td>\n",
       "      <td>B004MA7034</td>\n",
       "      <td>5.0</td>\n",
       "      <td>1313712000</td>\n",
       "    </tr>\n",
       "    <tr>\n",
       "      <th>59781</th>\n",
       "      <td>A16YX74GX4YUOI</td>\n",
       "      <td>B0012CR22E</td>\n",
       "      <td>5.0</td>\n",
       "      <td>1398902400</td>\n",
       "    </tr>\n",
       "  </tbody>\n",
       "</table>\n",
       "</div>"
      ],
      "text/plain": [
       "             reviewerID        asin  overall  unixReviewTime\n",
       "853495    ANNVJTD5TE002  B001EKP5M8      5.0      1328745600\n",
       "1438823   APQKVBOYQ2QES  B00SDOO03S      3.0      1433030400\n",
       "233230   A2ASS2Y9SSLE1M  B004EI3ON4      5.0      1474761600\n",
       "1014620  A3IUD0BF0WYOZ3  B004MA7034      5.0      1313712000\n",
       "59781    A16YX74GX4YUOI  B0012CR22E      5.0      1398902400"
      ]
     },
     "execution_count": 5,
     "metadata": {},
     "output_type": "execute_result"
    }
   ],
   "source": [
    "df.sample(5)"
   ]
  },
  {
   "cell_type": "code",
   "execution_count": 6,
   "id": "88407b10",
   "metadata": {},
   "outputs": [
    {
     "name": "stdout",
     "output_type": "stream",
     "text": [
      "Unique objects: 840K users and 457K items\n",
      "User-item matrix sparsity: 0.0004% elements are non-zero\n"
     ]
    }
   ],
   "source": [
    "uniq = df[['reviewerID', 'asin']].nunique()\n",
    "print(f\"Unique objects: {uniq.reviewerID / 1000:.0f}K users and {uniq.asin / 1000:.0f}K items\")\n",
    "\n",
    "print(f\"User-item matrix sparsity: {len(df) / uniq.reviewerID / uniq.asin:.4%} elements are non-zero\")"
   ]
  },
  {
   "cell_type": "markdown",
   "id": "cdbe388b",
   "metadata": {},
   "source": [
    "### Common info about dates"
   ]
  },
  {
   "cell_type": "code",
   "execution_count": 7,
   "id": "6424528a",
   "metadata": {},
   "outputs": [
    {
     "name": "stdout",
     "output_type": "stream",
     "text": [
      "The reviews were provided betweeen 1997-10-20 and 2018-10-02\n",
      "21 years of reviews\n"
     ]
    }
   ],
   "source": [
    "dates = pd.to_datetime(df['unixReviewTime'], unit='s')\n",
    "\n",
    "print(f'The reviews were provided betweeen {dates.min().date()} and {dates.max().date()}')\n",
    "print(f'{(dates.max().date() - dates.min().date()).days / 365:.0f} years of reviews')"
   ]
  },
  {
   "cell_type": "code",
   "execution_count": 8,
   "id": "af36cf08",
   "metadata": {},
   "outputs": [
    {
     "data": {
      "image/png": "[encoded data removed]",
      "text/plain": [
       "<Figure size 1008x432 with 1 Axes>"
      ]
     },
     "metadata": {
      "needs_background": "light"
     },
     "output_type": "display_data"
    }
   ],
   "source": [
    "import matplotlib.dates as mdates\n",
    "\n",
    "dates \\\n",
    "    .to_frame() \\\n",
    "    .set_index('unixReviewTime') \\\n",
    "    .assign(month=lambda x: [d.replace(day=1) for d in x.index.date]) \\\n",
    "    .assign(count=lambda x: 1) \\\n",
    "    .groupby('month') \\\n",
    "    .sum() \\\n",
    "    .plot(marker='o', ms=3, figsize=(14, 6), legend=False)\n",
    "\n",
    "plt.title(f'Reviews per month', fontsize=16)\n",
    "plt.xlabel('time', fontsize=14)\n",
    "plt.ylabel('log reviews/month', fontsize=14)\n",
    "plt.yscale('log')\n",
    "plt.grid()\n",
    "\n",
    "plt.show()"
   ]
  },
  {
   "cell_type": "markdown",
   "id": "9001b83c",
   "metadata": {},
   "source": [
    "### How \"old\" are the reviewers?\n",
    "\n",
    "$$\\textrm{Age} = T_{\\textrm{last review}} - T_{\\textrm{first review}}$$"
   ]
  },
  {
   "cell_type": "code",
   "execution_count": 9,
   "id": "531fb916",
   "metadata": {},
   "outputs": [
    {
     "name": "stdout",
     "output_type": "stream",
     "text": [
      "CPU times: user 2min 16s, sys: 62.7 ms, total: 2min 17s\n",
      "Wall time: 2min 17s\n"
     ]
    }
   ],
   "source": [
    "%%time\n",
    "\n",
    "def get_age(user_df):\n",
    "    delta = user_df.unixReviewTime.max() - user_df.unixReviewTime.min()\n",
    "    return delta\n",
    "\n",
    "user_age = df.groupby('reviewerID').apply(get_age)"
   ]
  },
  {
   "cell_type": "code",
   "execution_count": 10,
   "id": "f2df1bf0",
   "metadata": {},
   "outputs": [
    {
     "name": "stdout",
     "output_type": "stream",
     "text": [
      "81% of reviewers have zero age\n",
      "0.99-quantile of age is 5.3 years\n",
      "0.999-quantile of age is 10.8 years\n",
      "max age is 20.0 years\n"
     ]
    },
    {
     "data": {
      "image/png": "[encoded data removed]",
      "text/plain": [
       "<Figure size 432x288 with 1 Axes>"
      ]
     },
     "metadata": {
      "needs_background": "light"
     },
     "output_type": "display_data"
    }
   ],
   "source": [
    "age_years = user_age / 3600 / 24 / 365\n",
    "zero_age = (user_age == 0).mean()\n",
    "q99_age = age_years.quantile(0.99)\n",
    "q999_age = age_years.quantile(0.999)\n",
    "max_age = age_years.max()\n",
    "print(f\"{zero_age:.0%} of reviewers have zero age\")\n",
    "print(f\"0.99-quantile of age is {q99_age:.1f} years\")\n",
    "print(f\"0.999-quantile of age is {q999_age:.1f} years\")\n",
    "print(f\"max age is {max_age:.1f} years\")\n",
    "\n",
    "\n",
    "plt.hist(age_years, bins=20)\n",
    "plt.yscale('log')\n",
    "plt.title('Age distribution', fontsize=16)\n",
    "plt.xlabel('years', fontsize=14)\n",
    "plt.ylabel('log # of users', fontsize=14)\n",
    "plt.grid()\n",
    "plt.show()"
   ]
  },
  {
   "cell_type": "markdown",
   "id": "d30945c6",
   "metadata": {},
   "source": [
    "### How many reviews did they make?"
   ]
  },
  {
   "cell_type": "code",
   "execution_count": 11,
   "id": "d5723bd7",
   "metadata": {},
   "outputs": [
    {
     "name": "stdout",
     "output_type": "stream",
     "text": [
      "CPU times: user 3.35 s, sys: 28.4 ms, total: 3.38 s\n",
      "Wall time: 3.43 s\n"
     ]
    }
   ],
   "source": [
    "%%time\n",
    "\n",
    "user_reviews = df.groupby('reviewerID').size()"
   ]
  },
  {
   "cell_type": "code",
   "execution_count": 12,
   "id": "f966c475",
   "metadata": {},
   "outputs": [
    {
     "name": "stdout",
     "output_type": "stream",
     "text": [
      "74% of reviewers have only 1 review\n",
      "0.99-quantile of reviews count is 13\n",
      "0.999-quantile of reviews count is 45\n",
      "max count of reviews is 1064\n"
     ]
    },
    {
     "data": {
      "image/png": "[encoded data removed]",
      "text/plain": [
       "<Figure size 432x288 with 1 Axes>"
      ]
     },
     "metadata": {
      "needs_background": "light"
     },
     "output_type": "display_data"
    }
   ],
   "source": [
    "one_review = (user_reviews == 1).mean()\n",
    "q99 = user_reviews.quantile(0.99)\n",
    "q999 = user_reviews.quantile(0.999)\n",
    "print(f\"{one_review:.0%} of reviewers have only 1 review\")\n",
    "print(f\"0.99-quantile of reviews count is {q99:.0f}\")\n",
    "print(f\"0.999-quantile of reviews count is {q999:.0f}\")\n",
    "print(f\"max count of reviews is {user_reviews.max()}\")\n",
    "\n",
    "\n",
    "plt.hist(user_reviews, bins=32)\n",
    "plt.yscale('log')\n",
    "plt.title('Reviews count distribution', fontsize=16)\n",
    "plt.xlabel('# of reviews', fontsize=14)\n",
    "plt.ylabel('log # of users', fontsize=14)\n",
    "plt.grid()\n",
    "plt.show()"
   ]
  },
  {
   "cell_type": "markdown",
   "id": "7191a432",
   "metadata": {},
   "source": [
    "### Item popularity\n",
    "\n",
    "Popularity = number of unique reviewers."
   ]
  },
  {
   "cell_type": "code",
   "execution_count": 13,
   "id": "5d639402",
   "metadata": {},
   "outputs": [
    {
     "name": "stdout",
     "output_type": "stream",
     "text": [
      "64% of items have only 1 review\n",
      "0.99-quantile of reviews count is 35\n",
      "0.999-quantile of reviews count is 181\n",
      "max count of reviews is 3411\n"
     ]
    },
    {
     "data": {
      "image/png": "[encoded data removed]",
      "text/plain": [
       "<Figure size 432x288 with 1 Axes>"
      ]
     },
     "metadata": {
      "needs_background": "light"
     },
     "output_type": "display_data"
    }
   ],
   "source": [
    "item_reviews = df.groupby('asin').size()\n",
    "\n",
    "one_review = (item_reviews == 1).mean()\n",
    "q99 = item_reviews.quantile(0.99)\n",
    "q999 = item_reviews.quantile(0.999)\n",
    "print(f\"{one_review:.0%} of items have only 1 review\")\n",
    "print(f\"0.99-quantile of reviews count is {q99:.0f}\")\n",
    "print(f\"0.999-quantile of reviews count is {q999:.0f}\")\n",
    "print(f\"max count of reviews is {item_reviews.max()}\")\n",
    "\n",
    "plt.hist(item_reviews, bins=32)\n",
    "plt.yscale('log')\n",
    "plt.title('Reviews count distribution', fontsize=16)\n",
    "plt.xlabel('# of reviews', fontsize=14)\n",
    "plt.ylabel('log # of items', fontsize=14)\n",
    "plt.grid()\n",
    "plt.show()"
   ]
  },
  {
   "cell_type": "code",
   "execution_count": 14,
   "id": "6bf7f230",
   "metadata": {},
   "outputs": [
    {
     "name": "stdout",
     "output_type": "stream",
     "text": [
      "The most popular item is https://www.amazon.com/dp/B0135P6PZA\n"
     ]
    }
   ],
   "source": [
    "most_popular = item_reviews[item_reviews == item_reviews.max()].index[0]\n",
    "print(f'The most popular item is https://www.amazon.com/dp/{most_popular}')"
   ]
  },
  {
   "cell_type": "markdown",
   "id": "8975c738",
   "metadata": {},
   "source": [
    "### Ratings"
   ]
  },
  {
   "cell_type": "code",
   "execution_count": 15,
   "id": "961887da",
   "metadata": {},
   "outputs": [
    {
     "data": {
      "image/png": "[encoded data removed]",
      "text/plain": [
       "<Figure size 432x288 with 1 Axes>"
      ]
     },
     "metadata": {
      "needs_background": "light"
     },
     "output_type": "display_data"
    }
   ],
   "source": [
    "df.overall.hist()\n",
    "plt.title('Rating values distribution')\n",
    "plt.show()"
   ]
  },
  {
   "cell_type": "code",
   "execution_count": 16,
   "id": "52eda2bb",
   "metadata": {},
   "outputs": [
    {
     "name": "stdout",
     "output_type": "stream",
     "text": [
      "CPU times: user 2min 29s, sys: 132 ms, total: 2min 29s\n",
      "Wall time: 2min 29s\n"
     ]
    }
   ],
   "source": [
    "%%time\n",
    "\n",
    "mean_user_rating = df.groupby('reviewerID').apply(lambda x: x.overall.mean())\n",
    "mean_item_rating = df.groupby('asin').apply(lambda x: x.overall.mean())"
   ]
  },
  {
   "cell_type": "code",
   "execution_count": 17,
   "id": "668cf29a",
   "metadata": {},
   "outputs": [
    {
     "data": {
      "image/png": "[encoded data removed]",
      "text/plain": [
       "<Figure size 432x288 with 1 Axes>"
      ]
     },
     "metadata": {
      "needs_background": "light"
     },
     "output_type": "display_data"
    }
   ],
   "source": [
    "mean_user_rating.hist()\n",
    "plt.title('Mean user rating distribution')\n",
    "plt.show()"
   ]
  },
  {
   "cell_type": "code",
   "execution_count": 18,
   "id": "b5ce67f8",
   "metadata": {},
   "outputs": [
    {
     "data": {
      "image/png": "[encoded data removed]",
      "text/plain": [
       "<Figure size 432x288 with 1 Axes>"
      ]
     },
     "metadata": {
      "needs_background": "light"
     },
     "output_type": "display_data"
    }
   ],
   "source": [
    "mean_item_rating.hist()\n",
    "plt.title('Mean item rating distribution')\n",
    "plt.show()"
   ]
  },
  {
   "cell_type": "code",
   "execution_count": 19,
   "id": "ace00653",
   "metadata": {},
   "outputs": [
    {
     "name": "stdout",
     "output_type": "stream",
     "text": [
      "One of the worst items: https://www.amazon.com/dp/B003J8580W\n"
     ]
    }
   ],
   "source": [
    "tmp = df[\n",
    "    df.asin.isin(item_reviews[item_reviews >= 7].index)\n",
    "].groupby('asin').apply(lambda x: x.overall.mean())\n",
    "worst_items = tmp[tmp == tmp.min()]\n",
    "\n",
    "worst = worst_items.sample().index[0]\n",
    "print(f'One of the worst items: https://www.amazon.com/dp/{worst}')"
   ]
  }
 ],
 "metadata": {
  "kernelspec": {
   "display_name": "Python 3",
   "language": "python",
   "name": "python3"
  },
  "language_info": {
   "codemirror_mode": {
    "name": "ipython",
    "version": 3
   },
   "file_extension": ".py",
   "mimetype": "text/x-python",
   "name": "python",
   "nbconvert_exporter": "python",
   "pygments_lexer": "ipython3",
   "version": "3.9.4"
  }
 },
 "nbformat": 4,
 "nbformat_minor": 5
}
